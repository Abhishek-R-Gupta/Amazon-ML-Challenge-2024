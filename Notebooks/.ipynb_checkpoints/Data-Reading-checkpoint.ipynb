{
 "cells": [
  {
   "cell_type": "markdown",
   "id": "fde0edea-9986-4e1d-8422-e0dc8d428513",
   "metadata": {},
   "source": [
    "# 1.Importing Libraries"
   ]
  },
  {
   "cell_type": "code",
   "execution_count": 8,
   "id": "535bc76f-4766-4d6a-9cfe-c29abf82f071",
   "metadata": {},
   "outputs": [],
   "source": [
    "import numpy as np\n",
    "import pandas as pd\n",
    "import seaborn as sns\n",
    "import matplotlib.pyplot as plt\n",
    "import os"
   ]
  },
  {
   "cell_type": "code",
   "execution_count": 5,
   "id": "6269928a-af13-43dc-8221-eaa72ae9df68",
   "metadata": {},
   "outputs": [
    {
     "name": "stdout",
     "output_type": "stream",
     "text": [
      "Jai Shree Ram\n"
     ]
    }
   ],
   "source": [
    "print('Jai Shree Ram')"
   ]
  },
  {
   "cell_type": "markdown",
   "id": "76339ba9-3aa1-41dd-9ddc-d6c1bde9a85e",
   "metadata": {},
   "source": [
    "# Reading Data"
   ]
  },
  {
   "cell_type": "code",
   "execution_count": null,
   "id": "24c57790-cfc4-40c4-a241-e39610b1a9d4",
   "metadata": {},
   "outputs": [],
   "source": [
    "file_dir = r'C:\\Users\\Abhishek\\Documents\\Amazon-ML-Challenge-2024\\Zip-file\\student_resource 3\\dataset'\n",
    "data_dir = os.path.join(file_dir,dataset_name,'')"
   ]
  },
  {
   "cell_type": "code",
   "execution_count": 10,
   "id": "a9e8139b-db2a-4968-b389-b551fe969632",
   "metadata": {},
   "outputs": [],
   "source": [
    "def get_data(dataset_name):\n",
    "\n",
    "    \n",
    "    return pd.read_csv(data_dir)"
   ]
  },
  {
   "cell_type": "code",
   "execution_count": null,
   "id": "7cf870f8-cabb-4714-9e7b-fa54393125f4",
   "metadata": {},
   "outputs": [],
   "source": []
  }
 ],
 "metadata": {
  "kernelspec": {
   "display_name": "Python 3 (ipykernel)",
   "language": "python",
   "name": "python3"
  },
  "language_info": {
   "codemirror_mode": {
    "name": "ipython",
    "version": 3
   },
   "file_extension": ".py",
   "mimetype": "text/x-python",
   "name": "python",
   "nbconvert_exporter": "python",
   "pygments_lexer": "ipython3",
   "version": "3.12.4"
  }
 },
 "nbformat": 4,
 "nbformat_minor": 5
}
